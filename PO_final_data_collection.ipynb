{
 "cells": [
  {
   "cell_type": "markdown",
   "metadata": {},
   "source": [
    "# Get Patient Opinion Based On Given SED XLSX\n",
    "----"
   ]
  },
  {
   "cell_type": "markdown",
   "metadata": {},
   "source": [
    "# Import Libraries"
   ]
  },
  {
   "cell_type": "code",
   "execution_count": null,
   "metadata": {},
   "outputs": [],
   "source": [
    "import requests\n",
    "import pandas as pd\n",
    "import time\n",
    "import configparser"
   ]
  },
  {
   "cell_type": "markdown",
   "metadata": {},
   "source": [
    "# Read Config File"
   ]
  },
  {
   "cell_type": "code",
   "execution_count": null,
   "metadata": {},
   "outputs": [],
   "source": [
    "config = configparser.ConfigParser()\n",
    "config.read('config.ini')\n",
    "input_file = config['DEFAULT']['Input-File']\n",
    "output_file = config['DEFAULT']['Output-File']\n",
    "sed_area = config['DEFAULT']['SED-Area']\n",
    "auth_key = config['DEFAULT']['Auth-Key']"
   ]
  },
  {
   "cell_type": "markdown",
   "metadata": {},
   "source": [
    "## This is the last data collection from PO"
   ]
  },
  {
   "cell_type": "code",
   "execution_count": null,
   "metadata": {},
   "outputs": [],
   "source": [
    "sed_df = pd.read_excel(input_file, index_col=0)\n",
    "sed_df = sed_df[sed_df['X'].notnull()]\n",
    "sed_df.shape"
   ]
  },
  {
   "cell_type": "code",
   "execution_count": null,
   "metadata": {},
   "outputs": [],
   "source": [
    "sed_df.info()"
   ]
  },
  {
   "cell_type": "code",
   "execution_count": null,
   "metadata": {},
   "outputs": [],
   "source": [
    "grouped = sed_df.groupby('county').groups\n",
    "grouped.keys()"
   ]
  },
  {
   "cell_type": "code",
   "execution_count": null,
   "metadata": {},
   "outputs": [],
   "source": [
    "# nsw_seds = list(grouped['NSW'])\n",
    "# nt_seds = list(grouped['NT'])\n",
    "# qld_seds = list(grouped['QLD'])\n",
    "# sa_seds = list(grouped['SA'])\n",
    "# vic_seds = list(grouped['VIC'])\n",
    "wa_seds = list(grouped[sed_area])"
   ]
  },
  {
   "cell_type": "markdown",
   "metadata": {},
   "source": [
    "## Let's form the query"
   ]
  },
  {
   "cell_type": "code",
   "execution_count": null,
   "metadata": {},
   "outputs": [],
   "source": [
    "op_df = pd.DataFrame()"
   ]
  },
  {
   "cell_type": "markdown",
   "metadata": {},
   "source": [
    "## lets collect data per state"
   ]
  },
  {
   "cell_type": "code",
   "execution_count": null,
   "metadata": {},
   "outputs": [],
   "source": [
    "start_date = '2016-04-26'\n",
    "end_date = '2020-06-25'\n",
    "take_param = '1000000'\n",
    "start = time.time()\n",
    "for sed in wa_seds:\n",
    "    area_param = sed\n",
    "    print(area_param)\n",
    "    query='https://www.careopinion.org.au/api/v2/opinions?=frompopulation'+ area_param + '&publishedafter=' + start_date + '&publishedbefore=' + end_date + '&take=' + take_param\n",
    "    response = requests.get(url=query,headers={'Authorization': 'SUBSCRIPTION_KEY {}'.format(auth_key)})\n",
    "    if response.status_code == 200:\n",
    "        print('Success!')\n",
    "        response.encoding = 'utf-8'\n",
    "        local_df = pd.DataFrame.from_dict(response.json())\n",
    "        local_df['state'] = 'WA'\n",
    "        local_df['nacs'] = area_param\n",
    "        local_df['X'] = sed_df.at[area_param,'X']\n",
    "        local_df['Y'] = sed_df.at[area_param,'Y']\n",
    "        op_df = op_df.append(local_df)\n",
    "    else:\n",
    "        print('Failed!')\n",
    "        \n",
    "print(\"Used time {} seconds.\".format(time.time()-start))"
   ]
  },
  {
   "cell_type": "code",
   "execution_count": null,
   "metadata": {},
   "outputs": [],
   "source": [
    "op_df.shape"
   ]
  },
  {
   "cell_type": "code",
   "execution_count": null,
   "metadata": {},
   "outputs": [],
   "source": [
    "op_df.head()"
   ]
  },
  {
   "cell_type": "code",
   "execution_count": null,
   "metadata": {},
   "outputs": [],
   "source": [
    "op_df.tail()"
   ]
  },
  {
   "cell_type": "markdown",
   "metadata": {},
   "source": [
    "# Export Output"
   ]
  },
  {
   "cell_type": "code",
   "execution_count": null,
   "metadata": {},
   "outputs": [],
   "source": [
    "op_df.to_excel(output_file, index=False) "
   ]
  },
  {
   "cell_type": "code",
   "execution_count": null,
   "metadata": {},
   "outputs": [],
   "source": []
  }
 ],
 "metadata": {
  "kernelspec": {
   "display_name": "Python 3",
   "language": "python",
   "name": "python3"
  },
  "language_info": {
   "codemirror_mode": {
    "name": "ipython",
    "version": 3
   },
   "file_extension": ".py",
   "mimetype": "text/x-python",
   "name": "python",
   "nbconvert_exporter": "python",
   "pygments_lexer": "ipython3",
   "version": "3.6.6"
  }
 },
 "nbformat": 4,
 "nbformat_minor": 2
}
